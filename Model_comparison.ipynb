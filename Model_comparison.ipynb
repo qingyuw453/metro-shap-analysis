{
 "cells": [
  {
   "cell_type": "code",
   "execution_count": 1,
   "id": "5b520b86",
   "metadata": {},
   "outputs": [],
   "source": [
    "import pandas as pd\n",
    "import numpy as np\n",
    "from sklearn.model_selection import train_test_split\n",
    "from sklearn.metrics import mean_squared_error, r2_score\n",
    "from sklearn.ensemble import RandomForestRegressor\n",
    "from sklearn.linear_model import LinearRegression\n",
    "import xgboost as xgb\n",
    "import lightgbm as lgb\n",
    "import matplotlib.pyplot as plt\n"
   ]
  },
  {
   "cell_type": "code",
   "execution_count": null,
   "id": "ae67e8cc",
   "metadata": {},
   "outputs": [],
   "source": [
    "df = pd.read_csv('sample_3000.csv')\n",
    "df = df[np.isfinite(df['real_flow'])]\n",
    "df = df.dropna(subset=['real_flow'])\n",
    "\n",
    "# Feature selection\n",
    "X = df.drop(columns=['real_flow', 'stationID', 'name', 'date', 'longitude', 'latitude'], errors='ignore')\n",
    "y = df['real_flow']\n",
    "\n",
    "valid_idx = X.dropna().index\n",
    "X = X.loc[valid_idx]\n",
    "y = y.loc[valid_idx]\n",
    "\n",
    "#One-hot code\n",
    "X = pd.get_dummies(X, columns=['weekday', 'hours'], drop_first=True)\n",
    "\n",
    "# Split dataset\n",
    "X_train, X_test, y_train, y_test = train_test_split(X, y, test_size=0.2, random_state=42)\n"
   ]
  },
  {
   "cell_type": "code",
   "execution_count": null,
   "id": "d7878190",
   "metadata": {},
   "outputs": [
    {
     "name": "stdout",
     "output_type": "stream",
     "text": [
      "[LightGBM] [Info] Auto-choosing row-wise multi-threading, the overhead of testing was 0.000549 seconds.\n",
      "You can set `force_row_wise=true` to remove the overhead.\n",
      "And if memory is not enough, you can set `force_col_wise=true`.\n",
      "[LightGBM] [Info] Total Bins 3457\n",
      "[LightGBM] [Info] Number of data points in the train set: 2400, number of used features: 24\n",
      "[LightGBM] [Info] Start training from score 721.003333\n"
     ]
    }
   ],
   "source": [
    "# LinearRegression\n",
    "lr = LinearRegression()\n",
    "lr.fit(X_train, y_train)\n",
    "y_pred_lr = lr.predict(X_test)\n",
    "\n",
    "# RandomForestRegressor\n",
    "rf = RandomForestRegressor(n_estimators=100, random_state=42)\n",
    "rf.fit(X_train, y_train)\n",
    "y_pred_rf = rf.predict(X_test)\n",
    "\n",
    "# XGBoost\n",
    "xgb_model = xgb.XGBRegressor(n_estimators=100, learning_rate=0.1, random_state=42)\n",
    "xgb_model.fit(X_train, y_train)\n",
    "y_pred_xgb = xgb_model.predict(X_test)\n",
    "\n",
    "# LightGBM\n",
    "lgb_model = lgb.LGBMRegressor(n_estimators=100, learning_rate=0.1, random_state=42)\n",
    "lgb_model.fit(X_train, y_train)\n",
    "y_pred_lgb = lgb_model.predict(X_test)\n"
   ]
  },
  {
   "cell_type": "code",
   "execution_count": null,
   "id": "daa62aaf",
   "metadata": {},
   "outputs": [
    {
     "name": "stdout",
     "output_type": "stream",
     "text": [
      "Linear Regression: MSE=1028978.8944, RMSE=1014.3860, MAE=581.6317, R^2=0.2626\n",
      "Random Forest: MSE=27955.4490, RMSE=167.1988, MAE=75.1659, R^2=0.9800\n",
      "XGBoost: MSE=91580.0312, RMSE=302.6219, MAE=163.4141, R^2=0.9344\n",
      "LightGBM: MSE=73934.0930, RMSE=271.9082, MAE=150.5722, R^2=0.9470\n"
     ]
    }
   ],
   "source": [
    "from sklearn.metrics import mean_squared_error, mean_absolute_error, r2_score\n",
    "\n",
    "def print_metrics(y_test, y_pred, name):\n",
    "    mse = mean_squared_error(y_test, y_pred)\n",
    "    rmse = mse ** 0.5\n",
    "    r2 = r2_score(y_test, y_pred)\n",
    "    mae = mean_absolute_error(y_test, y_pred)  \n",
    "    \n",
    "    print(f\"{name}: MSE={mse:.4f}, RMSE={rmse:.4f}, MAE={mae:.4f}, R^2={r2:.4f}\") \n",
    "\n",
    "print_metrics(y_test, y_pred_lr, \"Linear Regression\")\n",
    "print_metrics(y_test, y_pred_rf, \"Random Forest\")\n",
    "print_metrics(y_test, y_pred_xgb, \"XGBoost\")\n",
    "print_metrics(y_test, y_pred_lgb, \"LightGBM\")\n"
   ]
  }
 ],
 "metadata": {
  "kernelspec": {
   "display_name": "Python 3",
   "language": "python",
   "name": "python3"
  },
  "language_info": {
   "codemirror_mode": {
    "name": "ipython",
    "version": 3
   },
   "file_extension": ".py",
   "mimetype": "text/x-python",
   "name": "python",
   "nbconvert_exporter": "python",
   "pygments_lexer": "ipython3",
   "version": "3.8.1"
  }
 },
 "nbformat": 4,
 "nbformat_minor": 5
}
