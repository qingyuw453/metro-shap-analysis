{
 "cells": [
  {
   "cell_type": "code",
   "execution_count": null,
   "id": "3ae30a4b",
   "metadata": {},
   "outputs": [
    {
     "name": "stdout",
     "output_type": "stream",
     "text": [
      "[空间聚类] 最佳 K: 5\n",
      "[SHAP聚类] 最佳 K: 5\n",
      "已保存: TJ_2023-2025SHAP_clusters_no167.csv\n"
     ]
    }
   ],
   "source": [
    "import pandas as pd\n",
    "from sklearn.preprocessing import StandardScaler\n",
    "from sklearn.cluster import KMeans\n",
    "\n",
    "# Perform spatial and SHAP-based clustering on metro station data\n",
    "\n",
    "# === 1) Load data ===\n",
    "df = pd.read_csv(\"TJ_2023-2025SHAP.csv\")\n",
    "\n",
    "# === 2) Aggregate: mean of real_flow and SHAP values; first value for coordinates/name ===\n",
    "shap_cols = [c for c in df.columns if c.startswith(\"SHAP_\")]\n",
    "agg_dict = {col: \"mean\" for col in shap_cols + [\"real_flow\"]}\n",
    "for col in [\"stationID\", \"name\", \"longitude\", \"latitude\"]:\n",
    "    if col in df.columns:\n",
    "        agg_dict[col] = \"first\"\n",
    "\n",
    "gdf = df.groupby(\"stationID\", as_index=False).agg(agg_dict)\n",
    "\n",
    "# === 3) Spatial clustering (real_flow mean + coordinates) ===\n",
    "features_spatial = [\"real_flow\", \"longitude\", \"latitude\"]\n",
    "X_spatial = gdf[features_spatial].fillna(0)\n",
    "\n",
    "scaler_spatial = StandardScaler()\n",
    "X_spatial_scaled = scaler_spatial.fit_transform(X_spatial)\n",
    "\n",
    "inertia_spatial = {}\n",
    "for k in [3, 4, 5]:\n",
    "    km = KMeans(n_clusters=k, random_state=42, n_init=10)\n",
    "    km.fit(X_spatial_scaled)\n",
    "    inertia_spatial[k] = km.inertia_\n",
    "\n",
    "best_k_spatial = min(inertia_spatial, key=inertia_spatial.get)\n",
    "print(f\"[Spatial clustering] Best K: {best_k_spatial}\")\n",
    "\n",
    "kmeans_spatial = KMeans(n_clusters=best_k_spatial, random_state=42, n_init=10)\n",
    "gdf[\"Cluster_flow_coord\"] = kmeans_spatial.fit_predict(X_spatial_scaled)\n",
    "\n",
    "# === 4) SHAP clustering (only SHAP means) ===\n",
    "X_shap = gdf[shap_cols].fillna(0)\n",
    "\n",
    "scaler_shap = StandardScaler()\n",
    "X_shap_scaled = scaler_shap.fit_transform(X_shap)\n",
    "\n",
    "inertia_shap = {}\n",
    "for k in [3, 4, 5]:\n",
    "    km = KMeans(n_clusters=k, random_state=42, n_init=10)\n",
    "    km.fit(X_shap_scaled)\n",
    "    inertia_shap[k] = km.inertia_\n",
    "\n",
    "best_k_shap = min(inertia_shap, key=inertia_shap.get)\n",
    "print(f\"[SHAP clustering] Best K: {best_k_shap}\")\n",
    "\n",
    "kmeans_shap = KMeans(n_clusters=best_k_shap, random_state=42, n_init=10)\n",
    "gdf[\"Cluster_SHAP\"] = kmeans_shap.fit_predict(X_shap_scaled)\n",
    "\n",
    "# === 5) Save results ===\n",
    "out_path = \"TJ_2023-2025SHAP_clusters_no167.csv\"\n",
    "gdf.to_csv(out_path, index=False)\n",
    "print(f\"Saved: {out_path}\")\n",
    "\n",
    "\n"
   ]
  }
 ],
 "metadata": {
  "kernelspec": {
   "display_name": "Python 3",
   "language": "python",
   "name": "python3"
  },
  "language_info": {
   "codemirror_mode": {
    "name": "ipython",
    "version": 3
   },
   "file_extension": ".py",
   "mimetype": "text/x-python",
   "name": "python",
   "nbconvert_exporter": "python",
   "pygments_lexer": "ipython3",
   "version": "3.11.4"
  }
 },
 "nbformat": 4,
 "nbformat_minor": 5
}
